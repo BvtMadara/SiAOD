{
 "cells": [
  {
   "cell_type": "markdown",
   "id": "a430626d",
   "metadata": {},
   "source": [
    "# 1"
   ]
  },
  {
   "cell_type": "code",
   "execution_count": 4,
   "id": "ba021921",
   "metadata": {},
   "outputs": [
    {
     "name": "stdout",
     "output_type": "stream",
     "text": [
      "7\n",
      "bcAAcbc\n",
      "3\n"
     ]
    }
   ],
   "source": [
    "kol = int(input())\n",
    "s = input()\n",
    "vid = set(s)\n",
    "ml, mr = 0, 0\n",
    "i = 0\n",
    "\n",
    "while len(vid)!=0:\n",
    "    if s[i] in vid:\n",
    "        vid.remove(s[i])\n",
    "    i+=1\n",
    "vid = set(s)\n",
    "j = kol-1\n",
    "\n",
    "while len(vid)!=0:\n",
    "    if s[j] in vid:\n",
    "        vid.remove(s[j])\n",
    "    j-=1\n",
    "    \n",
    "print(min(i, kol - j - 1))"
   ]
  },
  {
   "cell_type": "markdown",
   "id": "7c1851d8",
   "metadata": {},
   "source": [
    "# 2"
   ]
  },
  {
   "cell_type": "code",
   "execution_count": 2,
   "id": "08c72e7c",
   "metadata": {},
   "outputs": [
    {
     "name": "stdout",
     "output_type": "stream",
     "text": [
      "5\n",
      "4\n",
      "1 2 3 4\n",
      "0\n",
      "4\n",
      "1 1 2 2\n",
      "2\n",
      "2\n",
      "0 -1\n",
      "0\n",
      "6\n",
      "3 -2 4 -1 -4 0\n",
      "3\n",
      "1\n",
      "-100\n",
      "0\n"
     ]
    }
   ],
   "source": [
    "def res():\n",
    "    t = int(input())\n",
    "    \n",
    "    st = list(map(int,input().split()))\n",
    "    if t<=2:\n",
    "        return 0\n",
    "    best_res = t\n",
    "    for i in range(t):\n",
    "        for j in range(i+1,t):\n",
    "            res = t-2\n",
    "            d = (st[i]-st[j])/(j-i)\n",
    "            cur = st[j]\n",
    "            cur_j=j\n",
    "            for k in range(j+1,t):\n",
    "                if (cur-st[k])/(k-cur_j)==d:\n",
    "                    res-=1\n",
    "                    cur = st[k]\n",
    "                    cur_j=k\n",
    "            if res<best_res:\n",
    "                best_res=res\n",
    " \n",
    "    return best_res\n",
    "n = int(input())       \n",
    "for _ in range(n):\n",
    "    i = res()\n",
    "    print(i) \n",
    "        "
   ]
  },
  {
   "cell_type": "markdown",
   "id": "93294587",
   "metadata": {},
   "source": [
    "# 3"
   ]
  },
  {
   "cell_type": "code",
   "execution_count": 5,
   "id": "3c649df6",
   "metadata": {
    "scrolled": true
   },
   "outputs": [
    {
     "name": "stdout",
     "output_type": "stream",
     "text": [
      "4\n",
      "6 3 3\n",
      "1 2 3 2 2 2\n",
      "2\n",
      "6 2 4 \n",
      "1 1 2 2 2 2 \n",
      "3\n",
      "6 5 1\n",
      "6 5 4 3 2 1 \n",
      "5\n",
      "4 0 4\n",
      "4 4 4 3\n",
      "3\n"
     ]
    }
   ],
   "source": [
    "def main():\n",
    "    t = int(input())\n",
    "    for i in range(t):\n",
    "        solve()\n",
    "def solve():\n",
    "    n, l,r =  map(int, input().split())\n",
    "    a = list(map(int, input().split()))\n",
    "    r = a[l:]\n",
    "    l = a[:l]\n",
    "    r.sort()\n",
    "    l.sort()\n",
    " \n",
    "    matched = 0\n",
    " \n",
    " \n",
    "    pl = len(l)-1\n",
    "    pr = len(r)-1\n",
    "    while pr != -1 and pl != -1 :\n",
    "        if r[pr] == l[pl]:\n",
    "            matched+=1\n",
    "            r.pop(pr)\n",
    "            l.pop(pl)\n",
    "            pl-=1\n",
    "            pr-=1\n",
    "        elif r[pr] > l[pl]:\n",
    "            pr-=1\n",
    "        else:\n",
    "            pl-=1\n",
    " \n",
    "    half = 0\n",
    "    if len(r) - len(l) >= 2:\n",
    "        for i in range(len(r)-2,-1, -1):\n",
    "            if i < len(r)-1 and r[i] == r[i+1]:\n",
    "                r.pop(i+1)\n",
    "                r.pop(i)\n",
    "                half+=1\n",
    "            if len(r) == len(l):\n",
    "                break\n",
    "    if len(l) - len(r) >= 2:\n",
    "        for i in range(len(l)-2,-1, -1):\n",
    "            if i < len(l)-1 and l[i] == l[i+1]:\n",
    "                l.pop(i+1)\n",
    "                l.pop(i)\n",
    "                half+=1\n",
    "            if len(l) == len(r):\n",
    "                break\n",
    " \n",
    "    print(n-matched*2-half-min(len(r), len(l)))\n",
    "    \n",
    "main()"
   ]
  },
  {
   "cell_type": "markdown",
   "id": "6270706b",
   "metadata": {},
   "source": [
    "# 4"
   ]
  },
  {
   "cell_type": "code",
   "execution_count": 1,
   "id": "5b2c4430",
   "metadata": {},
   "outputs": [
    {
     "name": "stdout",
     "output_type": "stream",
     "text": [
      "4\n",
      "abab\n",
      "aabb\n",
      "2\n",
      "3 3\n",
      "3 2\n"
     ]
    }
   ],
   "source": [
    "n = int(input())\n",
    "s, t = input(), input()\n",
    "a = s.count('a') + t.count('a')\n",
    "\n",
    "A = [i + 1 for i in range(n) if s[i] != t[i] and t[i] == 'a']\n",
    "B = [i + 1 for i in range(n) if s[i] != t[i] and t[i] == 'b']\n",
    "sm = (len(A) + len(B)) // 2\n",
    "if len(A) % 2 == 1:\n",
    "    print(sm + 1)\n",
    "    print(B[-1], B[-1], sep = ' ')\n",
    "    A.append(B.pop())\n",
    "else:\n",
    "    print(sm)\n",
    "while len(A) >= 2:\n",
    "    print(A.pop(), A.pop(), sep = ' ')\n",
    "while len(B) >= 2:\n",
    "    print(B.pop(), B.pop(), sep = ' ')"
   ]
  },
  {
   "cell_type": "markdown",
   "id": "866b3e65",
   "metadata": {},
   "source": [
    "# 5"
   ]
  },
  {
   "cell_type": "code",
   "execution_count": 2,
   "id": "fe3b55d7",
   "metadata": {},
   "outputs": [
    {
     "name": "stdout",
     "output_type": "stream",
     "text": [
      "4\n",
      "4 3 \n",
      "4 3 2 1\n",
      "1 0.3\n",
      "3 1 \n",
      "4 0.6\n",
      "0.6000000\n",
      "5 3\n",
      "4 2 1 3 5\n",
      "3 0.8\n",
      "4 0.6\n",
      "5 0.3\n",
      "0.7200000\n",
      "6 5 \n",
      "1 3 2 4 5 6\n",
      "4 0.9\n",
      "5 0.3\n",
      "2 0.4\n",
      "6 0.7\n",
      "3 0.5\n",
      "0.9895000\n",
      "4 2\n",
      "1 2 3 4\n",
      "2 0.5\n",
      "4 0.1\n",
      "1\n"
     ]
    }
   ],
   "source": [
    "t = int(input())\n",
    "for _ in range(t):\n",
    "    n, m = map(int, input().split())\n",
    "    nums = [0]+list(map(int, input().split()))\n",
    "    p = [0]*(n+1)\n",
    " \n",
    "    ans = 0\n",
    "    for i in range(n, 0, -1):\n",
    "        if nums[i] != i:\n",
    "            ne = i\n",
    "            break\n",
    "    else:\n",
    "        for i in range(m):\n",
    "            a = input()\n",
    "        print(1)\n",
    " \n",
    "        continue\n",
    "    for i in range(m):\n",
    "        a, b = input().split()\n",
    "        if int(a) >= ne:\n",
    "            ans += (1-ans)*float(b)\n",
    "    print('%.7f' % ans)"
   ]
  },
  {
   "cell_type": "markdown",
   "id": "aa971717",
   "metadata": {},
   "source": [
    "# 6"
   ]
  },
  {
   "cell_type": "code",
   "execution_count": 3,
   "id": "01a0ca5b",
   "metadata": {},
   "outputs": [
    {
     "name": "stdout",
     "output_type": "stream",
     "text": [
      "5\n",
      "12\n",
      "5 4 4 3 2 2 1 1 1 1 1 1 \n",
      "1 2 3\n",
      "4 \n",
      "4 3 2 1 \n",
      "0 0 0\n",
      "1\n",
      "1000000\n",
      "0 0 0\n",
      "20\n",
      "20 19 18 17 16 15 14 13 12 11 10 9 8 7 6 5 4 3 2 1\n",
      "1 2 7\n",
      "32\n",
      "64 64 63 58 58 58 58 58 37 37 37 37 34 34 28 28 28 28 28 28 24 24 19 17 17 17 17 16 16 16 16 11\n",
      "2 6 6\n"
     ]
    }
   ],
   "source": [
    "N = int(input())\n",
    " \n",
    "for n in range(N):\n",
    "    T = int(input())  \n",
    "    lis = [int(_) for _ in input().split()]\n",
    " \n",
    "    gold = 1\n",
    "    while gold < T and lis[gold-1] == lis[gold]:\n",
    "        gold += 1 \n",
    "    silver = 2 * gold + 1\n",
    "    while silver < T and lis[silver-1] == lis[silver]:\n",
    "        silver += 1\n",
    "    bronze = T // 2\n",
    "    while bronze > 0 and lis[bronze] == lis[bronze-1]:\n",
    "        bronze -= 1\n",
    "    if bronze - silver > gold:\n",
    "        print(gold, silver - gold, bronze - silver)\n",
    "    else:\n",
    "        print(0, 0, 0)"
   ]
  },
  {
   "cell_type": "markdown",
   "id": "3e03cb39",
   "metadata": {},
   "source": [
    "# 7"
   ]
  },
  {
   "cell_type": "code",
   "execution_count": 4,
   "id": "b9a20e47",
   "metadata": {},
   "outputs": [
    {
     "name": "stdout",
     "output_type": "stream",
     "text": [
      "4\n",
      "2\n",
      "1 2\n",
      "1\n",
      "3\n",
      "5 5 5\n",
      "6\n",
      "4\n",
      "1 3 3 7\n",
      "0\n",
      "6\n",
      "3 4 2 1 3 3\n",
      "540\n"
     ]
    }
   ],
   "source": [
    "from math import factorial as fact\n",
    " \n",
    "for _ in range(int(input())):\n",
    "    n = int(input())\n",
    "    mod = 998244353\n",
    "    arr = list(map(int, input().split()))\n",
    "    if arr.count(max(arr)) > 1:\n",
    "        print(fact(n) % mod)\n",
    "    elif arr.count(max(arr) - 1) == 0:\n",
    "        print(0)\n",
    "    else:\n",
    "        k = arr.count(max(arr) - 1)\n",
    "        print((fact(n) * k // (k + 1)) % mod)"
   ]
  },
  {
   "cell_type": "markdown",
   "id": "7150fe1f",
   "metadata": {},
   "source": [
    "# 8"
   ]
  },
  {
   "cell_type": "code",
   "execution_count": 5,
   "id": "055ecef9",
   "metadata": {},
   "outputs": [
    {
     "name": "stdout",
     "output_type": "stream",
     "text": [
      "2 1 3\n",
      "3\n"
     ]
    }
   ],
   "source": [
    "n, l, r = map(int, input().split())\n",
    "d = []\n",
    "for i in range(3):\n",
    "    d.append((r - i) // 3 - (l - i - 1) // 3)\n",
    "mod = 10 ** 9 + 7\n",
    "a, b, c = d[0], d[1], d[2]\n",
    "for _ in range(1, n):\n",
    "    temp1 = (a * d[0] + b * d[2] + c * d[1]) % mod\n",
    "    temp2 = (a * d[1] + b * d[0] + c * d[2]) % mod\n",
    "    temp3 = (a * d[2] + b * d[1] + c * d[0]) % mod\n",
    "    a, b, c = temp1, temp2, temp3\n",
    "print(a)"
   ]
  },
  {
   "cell_type": "markdown",
   "id": "4fcd76d9",
   "metadata": {},
   "source": [
    "# 9"
   ]
  },
  {
   "cell_type": "code",
   "execution_count": 6,
   "id": "38c9d479",
   "metadata": {},
   "outputs": [
    {
     "name": "stdout",
     "output_type": "stream",
     "text": [
      "5\n",
      "1 2 3 4 5 \n",
      "2 4 7 11 3\n",
      "2\n"
     ]
    }
   ],
   "source": [
    "from decimal import Decimal\n",
    "n=int(input())\n",
    "a=list(map(int,input().split()))\n",
    "b=list(map(int,input().split()))\n",
    "z,ans=0,0\n",
    "d={}\n",
    "for i in range(n):\n",
    "    if a[i]==0:\n",
    "        if b[i]==0:\n",
    "            z+=1\n",
    "    else:\n",
    "        dr=Decimal(-b[i])/Decimal(a[i])\n",
    "        d[dr]=d.get(dr,0)+1\n",
    "        ans=max(ans,d[dr])\n",
    "print(ans+z)"
   ]
  },
  {
   "cell_type": "markdown",
   "id": "f5414c63",
   "metadata": {},
   "source": [
    "# 10"
   ]
  },
  {
   "cell_type": "code",
   "execution_count": 7,
   "id": "f717c9f3",
   "metadata": {},
   "outputs": [
    {
     "name": "stdout",
     "output_type": "stream",
     "text": [
      "4\n",
      "7\n",
      "2\n",
      "11\n",
      "3\n",
      "240\n",
      "4\n",
      "17179869184\n",
      "1\n"
     ]
    }
   ],
   "source": [
    "def count(n, id):\n",
    "    if n == 0:\n",
    "        return 0\n",
    "    min_ = bin(n).count(\"1\")\n",
    "    i = 0\n",
    "    while f[i] <= n and i < id:\n",
    "        min_ = min(min_, count(n - f[i], i) + 1)\n",
    "        i += 1\n",
    "    return min_\n",
    " \n",
    "f = [1]\n",
    "i = 2\n",
    "while f[-1] < 10 ** 12:\n",
    "    f.append(f[-1] * i)\n",
    "    i += 1\n",
    "for t in range(int(input())):\n",
    "    print(count(int(input()), 20))"
   ]
  },
  {
   "cell_type": "code",
   "execution_count": null,
   "id": "eed85cc5",
   "metadata": {},
   "outputs": [],
   "source": []
  }
 ],
 "metadata": {
  "kernelspec": {
   "display_name": "Python 3 (ipykernel)",
   "language": "python",
   "name": "python3"
  },
  "language_info": {
   "codemirror_mode": {
    "name": "ipython",
    "version": 3
   },
   "file_extension": ".py",
   "mimetype": "text/x-python",
   "name": "python",
   "nbconvert_exporter": "python",
   "pygments_lexer": "ipython3",
   "version": "3.8.10"
  }
 },
 "nbformat": 4,
 "nbformat_minor": 5
}
