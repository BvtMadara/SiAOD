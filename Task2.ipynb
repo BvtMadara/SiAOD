{
 "cells": [
  {
   "cell_type": "markdown",
   "id": "arctic-stocks",
   "metadata": {},
   "source": [
    "### Задание №1\n",
    "Массив A состоит из целых положительных чисел длин отрезков. Составьте из трех отрезков такой треугольник, чтобы его периметр был максимально возможным. Если невозможно составить треугольник с положительной площадью функция возвращает 0."
   ]
  },
  {
   "cell_type": "code",
   "execution_count": 30,
   "id": "caring-truck",
   "metadata": {
    "scrolled": false
   },
   "outputs": [
    {
     "name": "stdout",
     "output_type": "stream",
     "text": [
      "50 40 30\n"
     ]
    }
   ],
   "source": [
    "def normTr(a,b,c):\n",
    "    if a+b<=c: return False\n",
    "    if a+c<=b: return False\n",
    "    if b+c<=a: return False\n",
    "    return True\n",
    "def nom1(*args):\n",
    "    max_a, max_b, max_c = 0, 0, 0;\n",
    "    mas = [int(i) for i in args]\n",
    "    if len(mas) < 3: return 0\n",
    "    for i in range(0, len(mas) - 2):\n",
    "        for j in range(i+1, len(mas) - 1):\n",
    "            for k in range(j+1, len(mas)):\n",
    "                if(normTr(mas[i], mas[j], mas[k])):\n",
    "                    max_a = max(max_a, max(mas[i], mas[j], mas[k]))\n",
    "                    max_b = max(max_b, max(min(mas[i], mas[j]), min(mas[j], mas[k])))\n",
    "                    max_c = max(max_c, min(mas[i], mas[j], mas[k]))\n",
    "    print(max_a, max_b, max_c, sep = \" \")\n",
    "nom1(300, 400, 100, 3, 4, 5, 30, 40, 50)"
   ]
  },
  {
   "cell_type": "markdown",
   "id": "maritime-conversation",
   "metadata": {},
   "source": [
    "### Задание №2\n",
    "Дан массив неотрицательных целых чисел nums. Расположите их в таком порядке, чтобы вместе они образовали максимально возможное число. Замечание: Результат может быть очень большим числом, поэтому представьте его как string, а не integer."
   ]
  },
  {
   "cell_type": "code",
   "execution_count": 67,
   "id": "alert-charm",
   "metadata": {
    "scrolled": false
   },
   "outputs": [
    {
     "name": "stdout",
     "output_type": "stream",
     "text": [
      "6\n",
      "31\n",
      "32\n",
      "974\n",
      "9\n",
      "94\n",
      "1\n",
      "99749432311\n"
     ]
    }
   ],
   "source": [
    "n = int(input())#кол-во элементов\n",
    "mas = [str(input()) for i in range(n)]\n",
    "length = 0\n",
    "num_mas = []\n",
    "\n",
    "def minlen():\n",
    "    min_len = 100\n",
    "    for i in num_mas:\n",
    "        if(len(i)<min_len): min_len = len(i)\n",
    "    return min_len\n",
    "\n",
    "def deg_op(first_num): \n",
    "    deg_res = \"\"\n",
    "    for i in range(len(mas)):\n",
    "        if (mas[i][0] == str(first_num)): \n",
    "            num_mas.append(mas[i])\n",
    "    length = minlen()\n",
    "\n",
    "    if (length == 0): return \"\"\n",
    "    while(True):\n",
    "        choise = \"0\"*length\n",
    "        for i in num_mas:\n",
    "            if int(i[0:length]) == int(str(choise)[0:length]):\n",
    "                choise = min(int(i), int(choise))\n",
    "            if int(i[0:length]) > int(str(choise)[0:length]):\n",
    "                choise = str(i)\n",
    "        if (choise == \"0\"*length): break\n",
    "        deg_res += str(choise)\n",
    "        num_mas.pop(num_mas.index(str(choise)))\n",
    "        length = minlen()\n",
    "    return deg_res\n",
    "\n",
    "def max_deg():\n",
    "    res = \"\"\n",
    "    for i in range(9, 0, -1):\n",
    "        res += deg_op(i)\n",
    "    print(res)\n",
    "    \n",
    "max_deg()"
   ]
  },
  {
   "cell_type": "markdown",
   "id": "catholic-roots",
   "metadata": {},
   "source": [
    "# Задание №3\n",
    "Дана матрица mat размером m * n, значения целочисленные. Напишите функцию, сортирующую каждую диагональ матрицы по возрастанию и возвращающую получившуюся матрицу."
   ]
  },
  {
   "cell_type": "code",
   "execution_count": 8,
   "id": "6c630272",
   "metadata": {},
   "outputs": [
    {
     "name": "stdout",
     "output_type": "stream",
     "text": [
      "   10  -10   19   -2   -2\n",
      "\n",
      "  -15  -10   15   -6   -5\n",
      "\n",
      "   15   -8   12   11    5\n",
      "\n",
      "    8   -3   -8   -2   10\n",
      "\n",
      "  -15   19    9  -18   17\n",
      "\n",
      "  -17    4  -10    7    8\n",
      "\n",
      "    0  -19  -16  -16    5\n",
      "\n",
      "\n",
      "  -10  -10   -6   -5   -2\n",
      "\n",
      "  -18   -2   10    5   -2\n",
      "\n",
      "   -3  -15   10   11   19\n",
      "\n",
      "  -16    5   -8   12   15\n",
      "\n",
      "  -16  -10    7   -8   17\n",
      "\n",
      "  -19  -15    8    9    8\n",
      "\n",
      "    0  -17    4   19   15\n",
      "\n"
     ]
    }
   ],
   "source": [
    "from collections import defaultdict\n",
    "import heapq\n",
    "\n",
    "\n",
    "from random import randint\n",
    "def disp(mt: list):\n",
    "    for e in mt: \n",
    "        print(''.join('%5d' % v for v in e))\n",
    "        print()\n",
    "def main_d_sorted(mt: list):\n",
    "    d = defaultdict(list)\n",
    "    for i in range(m):\n",
    "        for j in range(n):\n",
    "            heapq.heappush(d[i-j], mt[i][j])\n",
    "    return [[heapq.heappop(d[i-j]) for j in range(n)] for i in range(m)]\n",
    "\n",
    "m, n = 7, 5\n",
    "mat = [[randint(-20, 20) for _ in range(n)] for _ in range(m)]\n",
    "disp(mat)\n",
    "print()\n",
    "disp(main_d_sorted(mat))"
   ]
  },
  {
   "cell_type": "code",
   "execution_count": null,
   "id": "8bee30da",
   "metadata": {},
   "outputs": [],
   "source": []
  }
 ],
 "metadata": {
  "kernelspec": {
   "display_name": "Python 3 (ipykernel)",
   "language": "python",
   "name": "python3"
  },
  "language_info": {
   "codemirror_mode": {
    "name": "ipython",
    "version": 3
   },
   "file_extension": ".py",
   "mimetype": "text/x-python",
   "name": "python",
   "nbconvert_exporter": "python",
   "pygments_lexer": "ipython3",
   "version": "3.8.10"
  }
 },
 "nbformat": 4,
 "nbformat_minor": 5
}
