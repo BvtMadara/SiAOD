{
 "cells": [
  {
   "cell_type": "markdown",
   "metadata": {
    "id": "WPvB9TcMmKA6"
   },
   "source": [
    "# Лабораторная работа №5\n",
    "# Рекурсия. Фракталы."
   ]
  },
  {
   "cell_type": "markdown",
   "metadata": {
    "id": "96Gi_LEvmSVH"
   },
   "source": [
    "## Выполнил студент группы Лапшин Александр Борисович \n",
    "***"
   ]
  },
  {
   "cell_type": "markdown",
   "metadata": {
    "id": "4clYOyb0mbEv"
   },
   "source": [
    "### Задание:\n",
    "Реализовать генерацию заданного типа фрактала с применением рекурсивных функций.\n",
    "\n",
    "\n",
    "Добавить возможность задания глубины фрактала. \n",
    "\n",
    "\n",
    "Оценить глубину рекурсии. \n",
    "\n",
    "\n",
    "Построить таблицу зависимости времени построения от глубины фрактала."
   ]
  },
  {
   "cell_type": "markdown",
   "metadata": {
    "id": "wDXHbUmMmhRL"
   },
   "source": [
    "### Список фракталов:\n",
    "\n",
    "Кривая Коха\n",
    "| Кривая Гильберта\n",
    "| Кривая Серпинского\n",
    "| Салфетка Серпинского\n",
    "| Ковер Серпинского\n",
    "| Дерево Пифагора "
   ]
  },
  {
   "cell_type": "markdown",
   "metadata": {},
   "source": [
    "### Кривая Коха"
   ]
  },
  {
   "cell_type": "code",
   "execution_count": 1,
   "metadata": {
    "id": "681a95mZnOSa"
   },
   "outputs": [
    {
     "name": "stdout",
     "output_type": "stream",
     "text": [
      "Введите глубину фрактала: 3\n",
      " 8.438859701156616 \n"
     ]
    }
   ],
   "source": [
    "import turtle\n",
    "import time\n",
    "\n",
    "n = int(input('Введите глубину фрактала: '))\n",
    "def koch_curve(ln, n):\n",
    "    if n == 0:\n",
    "        t.fd(ln)\n",
    "        return\n",
    "    a = ln / 3\n",
    "    koch_curve(a, n - 1)\n",
    "    t.left(60)\n",
    "    koch_curve(a, n - 1)\n",
    "    t.right(120)\n",
    "    koch_curve(a, n - 1)\n",
    "    t.left(60)\n",
    "    koch_curve(a, n - 1)\n",
    "\n",
    "\n",
    "t = turtle.Turtle()\n",
    "t.ht()\n",
    "\n",
    "start_time = time.time()\n",
    "koch_curve(200, n)\n",
    "print(\" %s \" % (time.time() - start_time))\n",
    "\n",
    "turtle.done()"
   ]
  },
  {
   "cell_type": "markdown",
   "metadata": {},
   "source": [
    "### Кривая Гильберта"
   ]
  },
  {
   "cell_type": "code",
   "execution_count": 7,
   "metadata": {},
   "outputs": [
    {
     "name": "stdout",
     "output_type": "stream",
     "text": [
      "Введите глубину фрактала: 1\n",
      " 0.5794456005096436 \n"
     ]
    }
   ],
   "source": [
    "import turtle\n",
    "import time\n",
    "n = int(input('Введите глубину фрактала: '))\n",
    "def hilbert_curve(n, a, ln):\n",
    "    if n == 0:\n",
    "        return\n",
    "    \n",
    "    t.right(a)\n",
    "    hilbert_curve(n-1, -a, ln)\n",
    "  \n",
    "    t.fd(ln)\n",
    "    t.left(a)\n",
    "    hilbert_curve(n-1, a, ln)\n",
    "  \n",
    "    t.fd(ln)\n",
    "    hilbert_curve(n-1, a, ln)\n",
    "  \n",
    "    t.left(a)\n",
    "    t.fd(ln)\n",
    "    hilbert_curve(n-1, -a, ln)\n",
    "    t.right(a)\n",
    "    \n",
    "t = turtle.Turtle()\n",
    "t.ht()\n",
    "    \n",
    "start_time = time.time()\n",
    "hilbert_curve(n, 90, 10)\n",
    "print(\" %s \" % (time.time() - start_time))\n",
    "\n",
    "turtle.done()"
   ]
  },
  {
   "cell_type": "markdown",
   "metadata": {},
   "source": [
    "### Кривая Серпинского"
   ]
  },
  {
   "cell_type": "code",
   "execution_count": 1,
   "metadata": {},
   "outputs": [
    {
     "name": "stdout",
     "output_type": "stream",
     "text": [
      "Введите глубину фрактала: 1\n",
      " 1.8876762390136719 \n"
     ]
    }
   ],
   "source": [
    "import turtle\n",
    "import time\n",
    "n = int(input('Введите глубину фрактала: '))\n",
    "def half_sierpinski_curve(ln, n):\n",
    "    if n == 0:\n",
    "        return\n",
    "    half_sierpinski_curve(ln, n-1)\n",
    "    t.left(45)\n",
    "    t.fd(ln*(2**(0.5)))\n",
    "    t.left(45)\n",
    "    half_sierpinski_curve(ln, n-1)\n",
    "    t.right(90)\n",
    "    t.fd(ln)\n",
    "    t.right(90)\n",
    "    half_sierpinski_curve(ln, n-1)\n",
    "    t.left(45)\n",
    "    t.fd(ln*(2**(0.5)))\n",
    "    t.left(45)\n",
    "    half_sierpinski_curve(ln, n-1)\n",
    "    \n",
    "def sierpinski_curve(ln, n):\n",
    "    half_sierpinski_curve(ln, n)\n",
    "    t.right(90)\n",
    "    t.fd(ln)\n",
    "    t.right(90)\n",
    "    half_sierpinski_curve(ln, n)\n",
    "    t.right(90)\n",
    "    t.fd(ln)\n",
    "    t.right(90)\n",
    "    \n",
    "    \n",
    "t = turtle.Turtle()\n",
    "t.ht()\n",
    "\n",
    "start_time = time.time()\n",
    "sierpinski_curve(10, n)\n",
    "print(\" %s \" % (time.time() - start_time))\n",
    "\n",
    "turtle.done()"
   ]
  },
  {
   "cell_type": "markdown",
   "metadata": {},
   "source": [
    "### Салфетка Серпинского"
   ]
  },
  {
   "cell_type": "code",
   "execution_count": 4,
   "metadata": {},
   "outputs": [
    {
     "name": "stdout",
     "output_type": "stream",
     "text": [
      "Введите глубину фрактала: 0\n",
      " 0.0011250972747802734 \n"
     ]
    }
   ],
   "source": [
    "import turtle\n",
    "import time\n",
    "n = int(input('Введите глубину фрактала: '))\n",
    "def sierpinski(ln, n):\n",
    "    if n == 0:\n",
    "        t.stamp()\n",
    "    else:\n",
    "        for i in range(0, 3):\n",
    "            t.fd(ln)\n",
    "            sierpinski(ln/2, n-1)\n",
    "            t.bk(ln)\n",
    "            t.left(120)\n",
    "            \n",
    "            \n",
    "t = turtle.Turtle()\n",
    "\n",
    "t.right(30)\n",
    "t.pu()\n",
    "t.ht()\n",
    "\n",
    "t.shape('triangle')\n",
    "    \n",
    "start_time = time.time()\n",
    "sierpinski(100, n)\n",
    "print(\" %s \" % (time.time() - start_time))\n",
    "\n",
    "turtle.done()"
   ]
  },
  {
   "cell_type": "markdown",
   "metadata": {},
   "source": [
    "### Ковер Серпинского"
   ]
  },
  {
   "cell_type": "code",
   "execution_count": 6,
   "metadata": {},
   "outputs": [
    {
     "name": "stdout",
     "output_type": "stream",
     "text": [
      "Введите глубину фрактала: 0\n"
     ]
    },
    {
     "ename": "Terminator",
     "evalue": "",
     "output_type": "error",
     "traceback": [
      "\u001b[0;31m---------------------------------------------------------------------------\u001b[0m",
      "\u001b[0;31mTerminator\u001b[0m                                Traceback (most recent call last)",
      "Input \u001b[0;32mIn [6]\u001b[0m, in \u001b[0;36m<cell line: 25>\u001b[0;34m()\u001b[0m\n\u001b[1;32m     21\u001b[0m             t\u001b[38;5;241m.\u001b[39mleft(\u001b[38;5;241m90\u001b[39m)\n\u001b[1;32m     24\u001b[0m t \u001b[38;5;241m=\u001b[39m turtle\u001b[38;5;241m.\u001b[39mTurtle()\n\u001b[0;32m---> 25\u001b[0m \u001b[43mt\u001b[49m\u001b[38;5;241;43m.\u001b[39;49m\u001b[43mht\u001b[49m\u001b[43m(\u001b[49m\u001b[43m)\u001b[49m\n\u001b[1;32m     27\u001b[0m start_time \u001b[38;5;241m=\u001b[39m time\u001b[38;5;241m.\u001b[39mtime()\n\u001b[1;32m     28\u001b[0m sierpinski_carpet(n, \u001b[38;5;241m100\u001b[39m)\n",
      "File \u001b[0;32m/usr/lib/python3.8/turtle.py:2323\u001b[0m, in \u001b[0;36mTPen.hideturtle\u001b[0;34m(self)\u001b[0m\n\u001b[1;32m   2309\u001b[0m \u001b[38;5;28;01mdef\u001b[39;00m \u001b[38;5;21mhideturtle\u001b[39m(\u001b[38;5;28mself\u001b[39m):\n\u001b[1;32m   2310\u001b[0m     \u001b[38;5;124;03m\"\"\"Makes the turtle invisible.\u001b[39;00m\n\u001b[1;32m   2311\u001b[0m \n\u001b[1;32m   2312\u001b[0m \u001b[38;5;124;03m    Aliases: hideturtle | ht\u001b[39;00m\n\u001b[0;32m   (...)\u001b[0m\n\u001b[1;32m   2321\u001b[0m \u001b[38;5;124;03m    >>> turtle.hideturtle()\u001b[39;00m\n\u001b[1;32m   2322\u001b[0m \u001b[38;5;124;03m    \"\"\"\u001b[39;00m\n\u001b[0;32m-> 2323\u001b[0m     \u001b[38;5;28;43mself\u001b[39;49m\u001b[38;5;241;43m.\u001b[39;49m\u001b[43mpen\u001b[49m\u001b[43m(\u001b[49m\u001b[43mshown\u001b[49m\u001b[38;5;241;43m=\u001b[39;49m\u001b[38;5;28;43;01mFalse\u001b[39;49;00m\u001b[43m)\u001b[49m\n",
      "File \u001b[0;32m/usr/lib/python3.8/turtle.py:2460\u001b[0m, in \u001b[0;36mTPen.pen\u001b[0;34m(self, pen, **pendict)\u001b[0m\n\u001b[1;32m   2457\u001b[0m     sa, ca \u001b[38;5;241m=\u001b[39m math\u001b[38;5;241m.\u001b[39msin(\u001b[38;5;28mself\u001b[39m\u001b[38;5;241m.\u001b[39m_tilt), math\u001b[38;5;241m.\u001b[39mcos(\u001b[38;5;28mself\u001b[39m\u001b[38;5;241m.\u001b[39m_tilt)\n\u001b[1;32m   2458\u001b[0m     \u001b[38;5;28mself\u001b[39m\u001b[38;5;241m.\u001b[39m_shapetrafo \u001b[38;5;241m=\u001b[39m ( scx\u001b[38;5;241m*\u001b[39mca, scy\u001b[38;5;241m*\u001b[39m(shf\u001b[38;5;241m*\u001b[39mca \u001b[38;5;241m+\u001b[39m sa),\n\u001b[1;32m   2459\u001b[0m                         \u001b[38;5;241m-\u001b[39mscx\u001b[38;5;241m*\u001b[39msa, scy\u001b[38;5;241m*\u001b[39m(ca \u001b[38;5;241m-\u001b[39m shf\u001b[38;5;241m*\u001b[39msa))\n\u001b[0;32m-> 2460\u001b[0m \u001b[38;5;28;43mself\u001b[39;49m\u001b[38;5;241;43m.\u001b[39;49m\u001b[43m_update\u001b[49m\u001b[43m(\u001b[49m\u001b[43m)\u001b[49m\n",
      "File \u001b[0;32m/usr/lib/python3.8/turtle.py:2661\u001b[0m, in \u001b[0;36mRawTurtle._update\u001b[0;34m(self)\u001b[0m\n\u001b[1;32m   2659\u001b[0m     \u001b[38;5;28;01mreturn\u001b[39;00m\n\u001b[1;32m   2660\u001b[0m \u001b[38;5;28;01melif\u001b[39;00m screen\u001b[38;5;241m.\u001b[39m_tracing \u001b[38;5;241m==\u001b[39m \u001b[38;5;241m1\u001b[39m:\n\u001b[0;32m-> 2661\u001b[0m     \u001b[38;5;28;43mself\u001b[39;49m\u001b[38;5;241;43m.\u001b[39;49m\u001b[43m_update_data\u001b[49m\u001b[43m(\u001b[49m\u001b[43m)\u001b[49m\n\u001b[1;32m   2662\u001b[0m     \u001b[38;5;28mself\u001b[39m\u001b[38;5;241m.\u001b[39m_drawturtle()\n\u001b[1;32m   2663\u001b[0m     screen\u001b[38;5;241m.\u001b[39m_update()                  \u001b[38;5;66;03m# TurtleScreenBase\u001b[39;00m\n",
      "File \u001b[0;32m/usr/lib/python3.8/turtle.py:2647\u001b[0m, in \u001b[0;36mRawTurtle._update_data\u001b[0;34m(self)\u001b[0m\n\u001b[1;32m   2646\u001b[0m \u001b[38;5;28;01mdef\u001b[39;00m \u001b[38;5;21m_update_data\u001b[39m(\u001b[38;5;28mself\u001b[39m):\n\u001b[0;32m-> 2647\u001b[0m     \u001b[38;5;28;43mself\u001b[39;49m\u001b[38;5;241;43m.\u001b[39;49m\u001b[43mscreen\u001b[49m\u001b[38;5;241;43m.\u001b[39;49m\u001b[43m_incrementudc\u001b[49m\u001b[43m(\u001b[49m\u001b[43m)\u001b[49m\n\u001b[1;32m   2648\u001b[0m     \u001b[38;5;28;01mif\u001b[39;00m \u001b[38;5;28mself\u001b[39m\u001b[38;5;241m.\u001b[39mscreen\u001b[38;5;241m.\u001b[39m_updatecounter \u001b[38;5;241m!=\u001b[39m \u001b[38;5;241m0\u001b[39m:\n\u001b[1;32m   2649\u001b[0m         \u001b[38;5;28;01mreturn\u001b[39;00m\n",
      "File \u001b[0;32m/usr/lib/python3.8/turtle.py:1293\u001b[0m, in \u001b[0;36mTurtleScreen._incrementudc\u001b[0;34m(self)\u001b[0m\n\u001b[1;32m   1291\u001b[0m \u001b[38;5;28;01mif\u001b[39;00m \u001b[38;5;129;01mnot\u001b[39;00m TurtleScreen\u001b[38;5;241m.\u001b[39m_RUNNING:\n\u001b[1;32m   1292\u001b[0m     TurtleScreen\u001b[38;5;241m.\u001b[39m_RUNNING \u001b[38;5;241m=\u001b[39m \u001b[38;5;28;01mTrue\u001b[39;00m\n\u001b[0;32m-> 1293\u001b[0m     \u001b[38;5;28;01mraise\u001b[39;00m Terminator\n\u001b[1;32m   1294\u001b[0m \u001b[38;5;28;01mif\u001b[39;00m \u001b[38;5;28mself\u001b[39m\u001b[38;5;241m.\u001b[39m_tracing \u001b[38;5;241m>\u001b[39m \u001b[38;5;241m0\u001b[39m:\n\u001b[1;32m   1295\u001b[0m     \u001b[38;5;28mself\u001b[39m\u001b[38;5;241m.\u001b[39m_updatecounter \u001b[38;5;241m+\u001b[39m\u001b[38;5;241m=\u001b[39m \u001b[38;5;241m1\u001b[39m\n",
      "\u001b[0;31mTerminator\u001b[0m: "
     ]
    }
   ],
   "source": [
    "import turtle\n",
    "import time\n",
    "n = int(input('Введите глубину фрактала: '))\n",
    "def sierpinski_carpet(n, m):\n",
    "    if n == 0: \n",
    "        t.color('black')\n",
    "        t.begin_fill()\n",
    "        for i in range(4):\n",
    "            t.forward(m)\n",
    "            t.left(90)\n",
    "        t.end_fill()\n",
    "    else:\n",
    "        for i in range(4):\n",
    "            sierpinski_carpet(n-1, m/3)\n",
    "            t.forward(m/3)\n",
    " \n",
    "            sierpinski_carpet(n-1, m/3)\n",
    "            t.forward(m/3)\n",
    " \n",
    "            t.forward(m/3)\n",
    "            t.left(90)\n",
    "\n",
    "        \n",
    "t = turtle.Turtle()\n",
    "t.ht()\n",
    "\n",
    "start_time = time.time()\n",
    "sierpinski_carpet(n, 100)\n",
    "print(\"%s \" % (time.time() - start_time))\n",
    "\n",
    "turtle.done()"
   ]
  },
  {
   "cell_type": "markdown",
   "metadata": {},
   "source": [
    "### Дерево Пифагора"
   ]
  },
  {
   "cell_type": "code",
   "execution_count": 7,
   "metadata": {},
   "outputs": [
    {
     "name": "stdout",
     "output_type": "stream",
     "text": [
      "Введите глубину фрактала: 0\n",
      " 0.8334293365478516 \n"
     ]
    }
   ],
   "source": [
    "import turtle\n",
    "import time\n",
    "n = int(input('Введите глубину фрактала: '))\n",
    "def pythagoras_tree(ln, n): \n",
    "    if n <= 0 :  \n",
    "        t.fd(ln) \n",
    "    else:\n",
    "        t.right(135)\n",
    "        t.fd((ln*ln/2)**(0.5))\n",
    "        t.left(90)\n",
    "        pythagoras_tree(((ln*ln/2)**(0.5)), n-1)\n",
    "        t.left(90)\n",
    "        t.fd((ln*ln/2)**(0.5))\n",
    "        t.left(90)\n",
    "        t.fd((ln*ln/2)**(0.5))\n",
    "        t.right(135)\n",
    "        t.fd(ln)\n",
    "        t.right(135)\n",
    "        t.fd((ln*ln/2)**(0.5))\n",
    "        t.left(90)\n",
    "        t.fd((ln*ln/2)**(0.5))\n",
    "        t.left(90)\n",
    "        pythagoras_tree(((ln*ln/2)**(0.5)), n-1)\n",
    "        t.left(90)\n",
    "        t.fd((ln*ln/2)**(0.5))\n",
    "        t.right(135)\n",
    "        \n",
    "def carre(ln, n):\n",
    "    t.fd(ln)\n",
    "    t.left(90)\n",
    "    t.fd(ln)\n",
    "    t.left(90)\n",
    "    pythagoras_tree(ln, n)\n",
    "    t.left(90)\n",
    "    t.fd(ln)\n",
    "       \n",
    "t = turtle.Turtle()\n",
    "t.ht()\n",
    "\n",
    "start_time = time.time()\n",
    "carre(100, n)\n",
    "print(\" %s \" % (time.time() - start_time))\n",
    "\n",
    "turtle.done()"
   ]
  },
  {
   "cell_type": "markdown",
   "metadata": {},
   "source": []
  }
 ],
 "metadata": {
  "colab": {
   "collapsed_sections": [],
   "name": "Lab5.ipynb",
   "provenance": []
  },
  "kernelspec": {
   "display_name": "Python 3 (ipykernel)",
   "language": "python",
   "name": "python3"
  },
  "language_info": {
   "codemirror_mode": {
    "name": "ipython",
    "version": 3
   },
   "file_extension": ".py",
   "mimetype": "text/x-python",
   "name": "python",
   "nbconvert_exporter": "python",
   "pygments_lexer": "ipython3",
   "version": "3.8.10"
  }
 },
 "nbformat": 4,
 "nbformat_minor": 1
}
