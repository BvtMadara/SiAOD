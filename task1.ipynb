{
 "cells": [
  {
   "cell_type": "markdown",
   "metadata": {},
   "source": [
    "## Задание 1"
   ]
  },
  {
   "cell_type": "code",
   "execution_count": 1,
   "metadata": {},
   "outputs": [
    {
     "name": "stdout",
     "output_type": "stream",
     "text": [
      "abc\n",
      "xya\n",
      "True\n"
     ]
    }
   ],
   "source": [
    "s1 = ''.join(sorted(input()))\n",
    "s2 = ''.join(sorted(input()))\n",
    "f1,f2 = True, True\n",
    "for i in range(len(s1)):\n",
    "    if ord(s1[i]) > ord(s2[i]):\n",
    "        f2 = False\n",
    "    if ord(s2[i]) > ord(s1[i]):\n",
    "        f1 = False\n",
    "print(bool(f1+f2))"
   ]
  },
  {
   "cell_type": "markdown",
   "metadata": {},
   "source": [
    "## Задание 2"
   ]
  },
  {
   "cell_type": "code",
   "execution_count": 2,
   "metadata": {},
   "outputs": [
    {
     "name": "stdout",
     "output_type": "stream",
     "text": [
      "hello\n",
      "ll\n"
     ]
    }
   ],
   "source": [
    "s = input()\n",
    "maxx = \"\"\n",
    "for i in range(0, len(s)):\n",
    "    for j in range(i+1, len(s)+1):\n",
    "        stroka = s[i:j]\n",
    "        if stroka == stroka[::-1] and len(maxx) < len(stroka):\n",
    "            maxx = stroka\n",
    "print(maxx)"
   ]
  },
  {
   "cell_type": "markdown",
   "metadata": {},
   "source": [
    "## Задание 3"
   ]
  },
  {
   "cell_type": "code",
   "execution_count": 3,
   "metadata": {},
   "outputs": [
    {
     "name": "stdout",
     "output_type": "stream",
     "text": [
      "hellohello\n",
      "3\n"
     ]
    }
   ],
   "source": [
    "stroka = input()\n",
    "start = 0\n",
    "dl = 1\n",
    "max_dl = len(stroka)//2\n",
    "count = 0\n",
    "while(dl<=max_dl):\n",
    "    for i in range(0, len(stroka)-dl):\n",
    "        if stroka[i:i+dl:1] == stroka[i+dl:i+2*dl]:\n",
    "            count+=1\n",
    "    dl+=1\n",
    "print(count)"
   ]
  }
 ],
 "metadata": {
  "kernelspec": {
   "display_name": "Python 3 (ipykernel)",
   "language": "python",
   "name": "python3"
  },
  "language_info": {
   "codemirror_mode": {
    "name": "ipython",
    "version": 3
   },
   "file_extension": ".py",
   "mimetype": "text/x-python",
   "name": "python",
   "nbconvert_exporter": "python",
   "pygments_lexer": "ipython3",
   "version": "3.8.10"
  }
 },
 "nbformat": 4,
 "nbformat_minor": 4
}
